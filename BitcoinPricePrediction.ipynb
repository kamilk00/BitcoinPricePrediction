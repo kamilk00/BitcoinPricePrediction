{
 "cells": [
  {
   "cell_type": "code",
   "execution_count": 49,
   "metadata": {},
   "outputs": [],
   "source": [
    "import numpy as np\n",
    "import pandas as pd\n",
    "import matplotlib.pyplot as plt\n",
    "%matplotlib inline\n",
    "from sklearn.preprocessing import MinMaxScaler\n",
    "from keras.models import Sequential\n",
    "from keras.layers import LSTM, Dense\n",
    "\n",
    "dataset = pd.read_csv(\"bitcoin.csv\")\n",
    "dataset[\"Date\"] = pd.to_datetime(dataset.Date, format = \"%b %d, %Y\")\n",
    "dataset.index = dataset['Date']"
   ]
  },
  {
   "cell_type": "code",
   "execution_count": 50,
   "metadata": {},
   "outputs": [
    {
     "data": {
      "text/plain": [
       "Date        datetime64[ns]\n",
       "Price               object\n",
       "Open                object\n",
       "High                object\n",
       "Low                 object\n",
       "Vol.                object\n",
       "Change %            object\n",
       "dtype: object"
      ]
     },
     "execution_count": 50,
     "metadata": {},
     "output_type": "execute_result"
    }
   ],
   "source": [
    "#sorting data\n",
    "dataset = dataset.sort_index(ascending = True, axis = 0)\n",
    "dataset.dtypes"
   ]
  },
  {
   "cell_type": "code",
   "execution_count": 51,
   "metadata": {},
   "outputs": [
    {
     "data": {
      "text/html": [
       "<div>\n",
       "<style scoped>\n",
       "    .dataframe tbody tr th:only-of-type {\n",
       "        vertical-align: middle;\n",
       "    }\n",
       "\n",
       "    .dataframe tbody tr th {\n",
       "        vertical-align: top;\n",
       "    }\n",
       "\n",
       "    .dataframe thead th {\n",
       "        text-align: right;\n",
       "    }\n",
       "</style>\n",
       "<table border=\"1\" class=\"dataframe\">\n",
       "  <thead>\n",
       "    <tr style=\"text-align: right;\">\n",
       "      <th></th>\n",
       "      <th>Date</th>\n",
       "      <th>Price</th>\n",
       "      <th>Open</th>\n",
       "      <th>High</th>\n",
       "      <th>Low</th>\n",
       "      <th>Vol.</th>\n",
       "      <th>Change %</th>\n",
       "    </tr>\n",
       "    <tr>\n",
       "      <th>Date</th>\n",
       "      <th></th>\n",
       "      <th></th>\n",
       "      <th></th>\n",
       "      <th></th>\n",
       "      <th></th>\n",
       "      <th></th>\n",
       "      <th></th>\n",
       "    </tr>\n",
       "  </thead>\n",
       "  <tbody>\n",
       "    <tr>\n",
       "      <th>2022-12-17</th>\n",
       "      <td>2022-12-17</td>\n",
       "      <td>16,777.1</td>\n",
       "      <td>16,629.0</td>\n",
       "      <td>16,794.4</td>\n",
       "      <td>16,587.0</td>\n",
       "      <td>164.49K</td>\n",
       "      <td>0.89%</td>\n",
       "    </tr>\n",
       "    <tr>\n",
       "      <th>2022-12-18</th>\n",
       "      <td>2022-12-18</td>\n",
       "      <td>16,741.1</td>\n",
       "      <td>16,777.0</td>\n",
       "      <td>16,825.7</td>\n",
       "      <td>16,666.5</td>\n",
       "      <td>124.29K</td>\n",
       "      <td>-0.21%</td>\n",
       "    </tr>\n",
       "    <tr>\n",
       "      <th>2022-12-19</th>\n",
       "      <td>2022-12-19</td>\n",
       "      <td>16,441.3</td>\n",
       "      <td>16,741.1</td>\n",
       "      <td>16,809.5</td>\n",
       "      <td>16,331.2</td>\n",
       "      <td>207.93K</td>\n",
       "      <td>-1.79%</td>\n",
       "    </tr>\n",
       "    <tr>\n",
       "      <th>2022-12-20</th>\n",
       "      <td>2022-12-20</td>\n",
       "      <td>16,902.8</td>\n",
       "      <td>16,441.3</td>\n",
       "      <td>17,031.3</td>\n",
       "      <td>16,400.7</td>\n",
       "      <td>284.57K</td>\n",
       "      <td>2.81%</td>\n",
       "    </tr>\n",
       "    <tr>\n",
       "      <th>2022-12-21</th>\n",
       "      <td>2022-12-21</td>\n",
       "      <td>16,874.2</td>\n",
       "      <td>16,902.7</td>\n",
       "      <td>16,919.4</td>\n",
       "      <td>16,780.6</td>\n",
       "      <td>221.50K</td>\n",
       "      <td>-0.17%</td>\n",
       "    </tr>\n",
       "  </tbody>\n",
       "</table>\n",
       "</div>"
      ],
      "text/plain": [
       "                 Date     Price      Open      High       Low     Vol.  \\\n",
       "Date                                                                     \n",
       "2022-12-17 2022-12-17  16,777.1  16,629.0  16,794.4  16,587.0  164.49K   \n",
       "2022-12-18 2022-12-18  16,741.1  16,777.0  16,825.7  16,666.5  124.29K   \n",
       "2022-12-19 2022-12-19  16,441.3  16,741.1  16,809.5  16,331.2  207.93K   \n",
       "2022-12-20 2022-12-20  16,902.8  16,441.3  17,031.3  16,400.7  284.57K   \n",
       "2022-12-21 2022-12-21  16,874.2  16,902.7  16,919.4  16,780.6  221.50K   \n",
       "\n",
       "           Change %  \n",
       "Date                 \n",
       "2022-12-17    0.89%  \n",
       "2022-12-18   -0.21%  \n",
       "2022-12-19   -1.79%  \n",
       "2022-12-20    2.81%  \n",
       "2022-12-21   -0.17%  "
      ]
     },
     "execution_count": 51,
     "metadata": {},
     "output_type": "execute_result"
    }
   ],
   "source": [
    "dataset.tail()"
   ]
  },
  {
   "cell_type": "code",
   "execution_count": 52,
   "metadata": {},
   "outputs": [
    {
     "data": {
      "text/html": [
       "<div>\n",
       "<style scoped>\n",
       "    .dataframe tbody tr th:only-of-type {\n",
       "        vertical-align: middle;\n",
       "    }\n",
       "\n",
       "    .dataframe tbody tr th {\n",
       "        vertical-align: top;\n",
       "    }\n",
       "\n",
       "    .dataframe thead th {\n",
       "        text-align: right;\n",
       "    }\n",
       "</style>\n",
       "<table border=\"1\" class=\"dataframe\">\n",
       "  <thead>\n",
       "    <tr style=\"text-align: right;\">\n",
       "      <th></th>\n",
       "      <th>Date</th>\n",
       "      <th>Price</th>\n",
       "    </tr>\n",
       "    <tr>\n",
       "      <th>Date</th>\n",
       "      <th></th>\n",
       "      <th></th>\n",
       "    </tr>\n",
       "  </thead>\n",
       "  <tbody>\n",
       "    <tr>\n",
       "      <th>2022-12-17</th>\n",
       "      <td>2022-12-17</td>\n",
       "      <td>16,777.1</td>\n",
       "    </tr>\n",
       "    <tr>\n",
       "      <th>2022-12-18</th>\n",
       "      <td>2022-12-18</td>\n",
       "      <td>16,741.1</td>\n",
       "    </tr>\n",
       "    <tr>\n",
       "      <th>2022-12-19</th>\n",
       "      <td>2022-12-19</td>\n",
       "      <td>16,441.3</td>\n",
       "    </tr>\n",
       "    <tr>\n",
       "      <th>2022-12-20</th>\n",
       "      <td>2022-12-20</td>\n",
       "      <td>16,902.8</td>\n",
       "    </tr>\n",
       "    <tr>\n",
       "      <th>2022-12-21</th>\n",
       "      <td>2022-12-21</td>\n",
       "      <td>16,874.2</td>\n",
       "    </tr>\n",
       "  </tbody>\n",
       "</table>\n",
       "</div>"
      ],
      "text/plain": [
       "                 Date     Price\n",
       "Date                           \n",
       "2022-12-17 2022-12-17  16,777.1\n",
       "2022-12-18 2022-12-18  16,741.1\n",
       "2022-12-19 2022-12-19  16,441.3\n",
       "2022-12-20 2022-12-20  16,902.8\n",
       "2022-12-21 2022-12-21  16,874.2"
      ]
     },
     "execution_count": 52,
     "metadata": {},
     "output_type": "execute_result"
    }
   ],
   "source": [
    "dataset.drop(['Open', 'High', 'Low', 'Vol.', 'Change %'], axis = 1, inplace = True)\n",
    "dataset.tail()"
   ]
  },
  {
   "cell_type": "code",
   "execution_count": 53,
   "metadata": {},
   "outputs": [],
   "source": [
    "dataset['Price'] = dataset['Price'].astype(dtype = \"string\")\n",
    "dataset['Price'] = dataset['Price'].str.replace(',', '')"
   ]
  },
  {
   "cell_type": "code",
   "execution_count": 54,
   "metadata": {},
   "outputs": [
    {
     "data": {
      "text/html": [
       "<div>\n",
       "<style scoped>\n",
       "    .dataframe tbody tr th:only-of-type {\n",
       "        vertical-align: middle;\n",
       "    }\n",
       "\n",
       "    .dataframe tbody tr th {\n",
       "        vertical-align: top;\n",
       "    }\n",
       "\n",
       "    .dataframe thead th {\n",
       "        text-align: right;\n",
       "    }\n",
       "</style>\n",
       "<table border=\"1\" class=\"dataframe\">\n",
       "  <thead>\n",
       "    <tr style=\"text-align: right;\">\n",
       "      <th></th>\n",
       "      <th>Date</th>\n",
       "      <th>Price</th>\n",
       "    </tr>\n",
       "    <tr>\n",
       "      <th>Date</th>\n",
       "      <th></th>\n",
       "      <th></th>\n",
       "    </tr>\n",
       "  </thead>\n",
       "  <tbody>\n",
       "    <tr>\n",
       "      <th>2022-12-17</th>\n",
       "      <td>2022-12-17</td>\n",
       "      <td>16777.1</td>\n",
       "    </tr>\n",
       "    <tr>\n",
       "      <th>2022-12-18</th>\n",
       "      <td>2022-12-18</td>\n",
       "      <td>16741.1</td>\n",
       "    </tr>\n",
       "    <tr>\n",
       "      <th>2022-12-19</th>\n",
       "      <td>2022-12-19</td>\n",
       "      <td>16441.3</td>\n",
       "    </tr>\n",
       "    <tr>\n",
       "      <th>2022-12-20</th>\n",
       "      <td>2022-12-20</td>\n",
       "      <td>16902.8</td>\n",
       "    </tr>\n",
       "    <tr>\n",
       "      <th>2022-12-21</th>\n",
       "      <td>2022-12-21</td>\n",
       "      <td>16874.2</td>\n",
       "    </tr>\n",
       "  </tbody>\n",
       "</table>\n",
       "</div>"
      ],
      "text/plain": [
       "                 Date    Price\n",
       "Date                          \n",
       "2022-12-17 2022-12-17  16777.1\n",
       "2022-12-18 2022-12-18  16741.1\n",
       "2022-12-19 2022-12-19  16441.3\n",
       "2022-12-20 2022-12-20  16902.8\n",
       "2022-12-21 2022-12-21  16874.2"
      ]
     },
     "execution_count": 54,
     "metadata": {},
     "output_type": "execute_result"
    }
   ],
   "source": [
    "dataset.tail()"
   ]
  },
  {
   "cell_type": "code",
   "execution_count": 55,
   "metadata": {},
   "outputs": [
    {
     "data": {
      "text/html": [
       "<div>\n",
       "<style scoped>\n",
       "    .dataframe tbody tr th:only-of-type {\n",
       "        vertical-align: middle;\n",
       "    }\n",
       "\n",
       "    .dataframe tbody tr th {\n",
       "        vertical-align: top;\n",
       "    }\n",
       "\n",
       "    .dataframe thead th {\n",
       "        text-align: right;\n",
       "    }\n",
       "</style>\n",
       "<table border=\"1\" class=\"dataframe\">\n",
       "  <thead>\n",
       "    <tr style=\"text-align: right;\">\n",
       "      <th></th>\n",
       "      <th>Date</th>\n",
       "      <th>Price</th>\n",
       "    </tr>\n",
       "    <tr>\n",
       "      <th>Date</th>\n",
       "      <th></th>\n",
       "      <th></th>\n",
       "    </tr>\n",
       "  </thead>\n",
       "  <tbody>\n",
       "    <tr>\n",
       "      <th>2022-12-17</th>\n",
       "      <td>2022-12-17</td>\n",
       "      <td>16777.1</td>\n",
       "    </tr>\n",
       "    <tr>\n",
       "      <th>2022-12-18</th>\n",
       "      <td>2022-12-18</td>\n",
       "      <td>16741.1</td>\n",
       "    </tr>\n",
       "    <tr>\n",
       "      <th>2022-12-19</th>\n",
       "      <td>2022-12-19</td>\n",
       "      <td>16441.3</td>\n",
       "    </tr>\n",
       "    <tr>\n",
       "      <th>2022-12-20</th>\n",
       "      <td>2022-12-20</td>\n",
       "      <td>16902.8</td>\n",
       "    </tr>\n",
       "    <tr>\n",
       "      <th>2022-12-21</th>\n",
       "      <td>2022-12-21</td>\n",
       "      <td>16874.2</td>\n",
       "    </tr>\n",
       "  </tbody>\n",
       "</table>\n",
       "</div>"
      ],
      "text/plain": [
       "                 Date    Price\n",
       "Date                          \n",
       "2022-12-17 2022-12-17  16777.1\n",
       "2022-12-18 2022-12-18  16741.1\n",
       "2022-12-19 2022-12-19  16441.3\n",
       "2022-12-20 2022-12-20  16902.8\n",
       "2022-12-21 2022-12-21  16874.2"
      ]
     },
     "execution_count": 55,
     "metadata": {},
     "output_type": "execute_result"
    }
   ],
   "source": [
    "dataset['Price'] = pd.to_numeric(dataset['Price'])\n",
    "dataset.tail()"
   ]
  },
  {
   "cell_type": "code",
   "execution_count": 56,
   "metadata": {},
   "outputs": [
    {
     "data": {
      "text/plain": [
       "<matplotlib.legend.Legend at 0x1c952b661a0>"
      ]
     },
     "execution_count": 56,
     "metadata": {},
     "output_type": "execute_result"
    },
    {
     "data": {
      "image/png": "[encoded data removed]",
      "text/plain": [
       "<Figure size 1200x400 with 1 Axes>"
      ]
     },
     "metadata": {},
     "output_type": "display_data"
    }
   ],
   "source": [
    "#plot bitcoin stock data\n",
    "plt.figure(figsize = (12, 4))\n",
    "plt.plot(dataset.index, dataset[\"Price\"], color = 'g', label = 'Bitcoin Price')\n",
    "\n",
    "\n",
    "plt.xlabel(\"Date\")\n",
    "plt.ylabel(\"Value\")\n",
    "plt.title(\"Bitcoin Stock Price History\")\n",
    "plt.legend()"
   ]
  },
  {
   "cell_type": "code",
   "execution_count": 57,
   "metadata": {},
   "outputs": [],
   "source": [
    "scaler = MinMaxScaler(feature_range = (0, 1))"
   ]
  },
  {
   "cell_type": "code",
   "execution_count": 58,
   "metadata": {},
   "outputs": [
    {
     "name": "stdout",
     "output_type": "stream",
     "text": [
      "Epoch 1/5\n",
      "3497/3497 - 54s - loss: 5.2219e-04 - 54s/epoch - 16ms/step\n",
      "Epoch 2/5\n",
      "3497/3497 - 51s - loss: 1.0577e-04 - 51s/epoch - 15ms/step\n",
      "Epoch 3/5\n",
      "3497/3497 - 52s - loss: 6.9409e-05 - 52s/epoch - 15ms/step\n",
      "Epoch 4/5\n",
      "3497/3497 - 53s - loss: 3.6294e-05 - 53s/epoch - 15ms/step\n",
      "Epoch 5/5\n",
      "3497/3497 - 55s - loss: 3.5982e-05 - 55s/epoch - 16ms/step\n",
      "28/28 [==============================] - 1s 13ms/step\n"
     ]
    },
    {
     "name": "stderr",
     "output_type": "stream",
     "text": [
      "C:\\Users\\kkacz\\AppData\\Local\\Temp\\ipykernel_8872\\4012122853.py:62: SettingWithCopyWarning: \n",
      "A value is trying to be set on a copy of a slice from a DataFrame.\n",
      "Try using .loc[row_indexer,col_indexer] = value instead\n",
      "\n",
      "See the caveats in the documentation: https://pandas.pydata.org/pandas-docs/stable/user_guide/indexing.html#returning-a-view-versus-a-copy\n",
      "  testData['Predictions'] = predictedPrice\n"
     ]
    },
    {
     "data": {
      "text/plain": [
       "[<matplotlib.lines.Line2D at 0x1c968139630>]"
      ]
     },
     "execution_count": 58,
     "metadata": {},
     "output_type": "execute_result"
    },
    {
     "data": {
      "image/png": "[encoded data removed]",
      "text/plain": [
       "<Figure size 1200x400 with 1 Axes>"
      ]
     },
     "metadata": {},
     "output_type": "display_data"
    }
   ],
   "source": [
    "#preparing training and testing dataset \n",
    "dataset[\"Date\"] = pd.to_numeric(pd.to_datetime(dataset[\"Date\"]))\n",
    "data = dataset.values\n",
    "trainDataLength = round(0.8 * len(data))\n",
    "testData = data[trainDataLength + 1:, :]\n",
    "scaledData = scaler.fit_transform(data)\n",
    "\n",
    "dataset.drop(['Date'], axis = 1, inplace = True)\n",
    "x_train, y_train = [], []\n",
    "    \n",
    "for j in range(50, trainDataLength):\n",
    "\n",
    "    x_train.append(scaledData[j - 50 : j, 0])\n",
    "    y_train.append(scaledData[j, 0])\n",
    "    \n",
    "    \n",
    "x_train, y_train = np.array(x_train), np.array(y_train)\n",
    "x_train = np.reshape(x_train, (x_train.shape[0], x_train.shape[1], 1))\n",
    "\n",
    "#creating a sequential model and training the neural network\n",
    "model = Sequential()\n",
    "\n",
    "model.add(LSTM(units = 50, return_sequences = True, input_shape = (x_train.shape[1], 1)))\n",
    "model.add(LSTM(units = 50))\n",
    "model.add(Dense(1))\n",
    "    \n",
    "model.compile(loss = 'mean_squared_error', optimizer = 'adam')\n",
    "model.fit(x_train, y_train, epochs = 5, batch_size = 1, verbose = 2)\n",
    "\n",
    "#scaling test data\n",
    "inputData = dataset[len(dataset) - len(testData) - 50:].values\n",
    "inputData = inputData.reshape(-1, 1)\n",
    "scalerInput = MinMaxScaler(feature_range = (0, 1))\n",
    "inputData = scalerInput.fit_transform(inputData)\n",
    "\n",
    "test = []\n",
    "for k in range(50, inputData.shape[0]):\n",
    "    test.append(inputData[k - 50 : k, 0])\n",
    "\n",
    "test = np.array(test)\n",
    "test = np.reshape(test, (test.shape[0], test.shape[1], 1))\n",
    "\n",
    "#prediction of stock price based on trained model\n",
    "predictedPrice = model.predict(test)\n",
    "    \n",
    "#inverse transform from scaler\n",
    "predictedPrice = scalerInput.inverse_transform(predictedPrice)\n",
    "\n",
    "#saving a file\n",
    "nameOfFile = \"bitcoin\" + \".h5\"\n",
    "model.save(nameOfFile)\n",
    "\n",
    "nameOfFile = \"bitcoin\" + \".json\"\n",
    "model_json = model.to_json()\n",
    "\n",
    "with open(nameOfFile, \"w\") as json_file:\n",
    "    json_file.write(model_json)\n",
    "\n",
    "#plot\n",
    "trainData = dataset[:trainDataLength]\n",
    "testData = dataset[trainDataLength + 1:]\n",
    "testData['Predictions'] = predictedPrice\n",
    "\n",
    "plt.figure(figsize = (12, 4))\n",
    "plt.plot(trainData[\"Price\"], color = 'g')\n",
    "plt.plot(testData[\"Price\"], color ='g')\n",
    "plt.plot(testData[\"Predictions\"], color = 'r')"
   ]
  }
 ],
 "metadata": {
  "kernelspec": {
   "display_name": "Python 3",
   "language": "python",
   "name": "python3"
  },
  "language_info": {
   "codemirror_mode": {
    "name": "ipython",
    "version": 3
   },
   "file_extension": ".py",
   "mimetype": "text/x-python",
   "name": "python",
   "nbconvert_exporter": "python",
   "pygments_lexer": "ipython3",
   "version": "3.10.9"
  },
  "orig_nbformat": 4,
  "vscode": {
   "interpreter": {
    "hash": "5db2c188fe590cbc6168feb5d613033a339ce7c4fa8b5257416806251b51e263"
   }
  }
 },
 "nbformat": 4,
 "nbformat_minor": 2
}
